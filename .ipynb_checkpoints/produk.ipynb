{
 "cells": [
  {
   "cell_type": "code",
   "execution_count": 1,
   "id": "0a1ebe04",
   "metadata": {},
   "outputs": [
    {
     "name": "stdout",
     "output_type": "stream",
     "text": [
      "Tabel 'produk' berhasil dibuat!\n"
     ]
    }
   ],
   "source": [
    "import mysql.connector\n",
    "\n",
    "# Koneksi ke MySQL\n",
    "conn = mysql.connector.connect(\n",
    "    host=\"localhost\",\n",
    "    user=\"root\",\n",
    "    password=\"\",\n",
    "    database=\"toko_db\"\n",
    ")\n",
    "\n",
    "cursor = conn.cursor()\n",
    "\n",
    "# Buat tabel produk\n",
    "query = \"\"\"\n",
    "CREATE TABLE IF NOT EXISTS produk (\n",
    "    id INT AUTO_INCREMENT PRIMARY KEY,\n",
    "    nama_produk VARCHAR(255) NOT NULL,\n",
    "    harga DECIMAL(10,2) NOT NULL,\n",
    "    stok INT NOT NULL,\n",
    "    deskripsi TEXT\n",
    ");\n",
    "\"\"\"\n",
    "\n",
    "cursor.execute(query)\n",
    "print(\"Tabel 'produk' berhasil dibuat!\")\n",
    "\n",
    "# Tutup koneksi\n",
    "cursor.close()\n",
    "conn.close()"
   ]
  }
 ],
 "metadata": {
  "kernelspec": {
   "display_name": ".venv",
   "language": "python",
   "name": "python3"
  },
  "language_info": {
   "codemirror_mode": {
    "name": "ipython",
    "version": 3
   },
   "file_extension": ".py",
   "mimetype": "text/x-python",
   "name": "python",
   "nbconvert_exporter": "python",
   "pygments_lexer": "ipython3",
   "version": "3.13.0"
  }
 },
 "nbformat": 4,
 "nbformat_minor": 5
}
